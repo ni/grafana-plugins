{
 "cells": [
  {
   "cell_type": "markdown",
   "metadata": {},
   "source": [
    "# Throughput\n",
    "This notebook creates a throughput report for test results. It ties into the **Test Monitor Service** for retrieving filtered test results, the **Notebook Execution Service** for running outside of Jupyterhub, and the **Test Monitor Reports page** at #testmonitor/reports for displaying results.\n",
    "\n",
    "The parameters and output use a schema recognized by the Test Monitor Reports page, which can be implemented by various report types. The Throughput notebook produces data that is best shown in a bar graph."
   ]
  },
  {
   "cell_type": "markdown",
   "metadata": {},
   "source": [
    "### Imports\n",
    "Import Python modules for executing the notebook. Pandas is used for building and handling dataframes. Scrapbook is used for recording data for the Notebook Execution Service. The SystemLink Test Monitor Client provides access to test result data for processing."
   ]
  },
  {
   "cell_type": "code",
   "execution_count": 1,
   "metadata": {},
   "outputs": [],
   "source": [
    "import copy\n",
    "import datetime\n",
    "import pandas as pd\n",
    "import scrapbook as sb\n",
    "from dateutil import tz\n",
    "\n",
    "import systemlink.clients.nitestmonitor as testmon"
   ]
  },
  {
   "cell_type": "markdown",
   "metadata": {},
   "source": [
    "### Parameters\n",
    "- `results_filter`: Dynamic Linq query filter for test results from the Test Monitor Service  \n",
    "  Options: Any valid Test Monitor Results Dynamic Linq filter  \n",
    "  Default: `'startedWithin <= \"30.0:0:0\"'`\n",
    "- `group_by`: The dimension along which to reduce; what each bar in the output graph represents  \n",
    "  Options: Day, System, Test Program, Operator, Part Number  \n",
    "  Default: Day\n",
    "\n",
    "Parameters are also listed in the metadata for the parameters cell, along with their default values. The Notebook Execution services uses that metadata to pass parameters from the Test Monitor Reports page to this notebook. Available `group_by` options are listed in the metadata as well; the Test Monitor Reports page uses these to validate inputs sent to the notebook.\n",
    "\n",
    "To see the metadata, select the code cell and click the wrench icon in the far left panel."
   ]
  },
  {
   "cell_type": "code",
   "execution_count": 2,
   "metadata": {
    "papermill": {
     "parameters": {
      "products_filter": "",
      "results_filter": "startedWithin <= \"30.0:0:0\""
     }
    },
    "systemlink": {
     "namespaces": [
      "ni-testmanagement"
     ],
     "outputs": [
      {
       "display_name": "Results",
       "id": "results_graph",
       "type": "data_frame"
      }
     ],
     "parameters": [
      {
       "default_display": {
        "products_filter": [],
        "results_filter": [
         {
          "queryOperandUnit": "DAYS",
          "queryOperandValue": 30,
          "queryOperator": "LESS_THAN_OR_EQUAL",
          "queryOperatorName": "startedWithin"
         }
        ]
       },
       "display_name": "Query by",
       "id": "results_filter",
       "type": "test_monitor_result_query"
      }
     ],
     "version": 2
    },
    "tags": [
     "parameters"
    ]
   },
   "outputs": [],
   "source": [
    "results_filter = 'startedWithin <= \"30.0:0:0\"'\n",
    "products_filter = ''"
   ]
  },
  {
   "cell_type": "markdown",
   "metadata": {},
   "source": [
    "### Create Test Monitor client\n",
    "Establish a connection to SystemLink over HTTP."
   ]
  },
  {
   "cell_type": "code",
   "execution_count": 3,
   "metadata": {},
   "outputs": [],
   "source": [
    "results_api = testmon.ResultsApi()"
   ]
  },
  {
   "cell_type": "markdown",
   "metadata": {},
   "source": [
    "### Query for results\n",
    "Query the Test Monitor Service for results matching the `results_filter` parameter."
   ]
  },
  {
   "cell_type": "code",
   "execution_count": 4,
   "metadata": {},
   "outputs": [],
   "source": [
    "results_query = testmon.ResultsAdvancedQuery(\n",
    "    results_filter, product_filter=products_filter, order_by=testmon.ResultField.STARTED_AT\n",
    ")\n",
    "\n",
    "results = []\n",
    "\n",
    "response = await results_api.query_results_v2(post_body=results_query)\n",
    "while response.continuation_token:\n",
    "    results = results + response.results\n",
    "    results_query.continuation_token = response.continuation_token\n",
    "    response = await results_api.query_results_v2(post_body=results_query)\n",
    "\n",
    "results_list = [result.to_dict() for result in results]"
   ]
  },
  {
   "cell_type": "markdown",
   "metadata": {},
   "source": [
    "### Create pandas dataframe\n",
    "Put the data into a dataframe whose columns are test result id, start time, and group name."
   ]
  },
  {
   "cell_type": "code",
   "execution_count": 8,
   "metadata": {},
   "outputs": [
    {
     "data": {
      "text/html": [
       "<div>\n",
       "<style scoped>\n",
       "    .dataframe tbody tr th:only-of-type {\n",
       "        vertical-align: middle;\n",
       "    }\n",
       "\n",
       "    .dataframe tbody tr th {\n",
       "        vertical-align: top;\n",
       "    }\n",
       "\n",
       "    .dataframe thead th {\n",
       "        text-align: right;\n",
       "    }\n",
       "</style>\n",
       "<table border=\"1\" class=\"dataframe\">\n",
       "  <thead>\n",
       "    <tr style=\"text-align: right;\">\n",
       "      <th></th>\n",
       "      <th>started_at</th>\n",
       "      <th>updated_at</th>\n",
       "      <th>program_name</th>\n",
       "      <th>id</th>\n",
       "      <th>system_id</th>\n",
       "      <th>host_name</th>\n",
       "      <th>operator</th>\n",
       "      <th>part_number</th>\n",
       "      <th>serial_number</th>\n",
       "      <th>total_time_in_seconds</th>\n",
       "      <th>keywords</th>\n",
       "      <th>properties</th>\n",
       "      <th>file_ids</th>\n",
       "      <th>workspace</th>\n",
       "      <th>status_type</th>\n",
       "      <th>status_name</th>\n",
       "      <th>Location</th>\n",
       "    </tr>\n",
       "  </thead>\n",
       "  <tbody>\n",
       "    <tr>\n",
       "      <th>0</th>\n",
       "      <td>2021-01-27 22:02:29.991441</td>\n",
       "      <td>2021-01-27 22:02:30.613514</td>\n",
       "      <td>Program Name</td>\n",
       "      <td>6011e2f526b41e3160c25e20</td>\n",
       "      <td></td>\n",
       "      <td></td>\n",
       "      <td>John Doe</td>\n",
       "      <td>B3F2H-STL</td>\n",
       "      <td>123456</td>\n",
       "      <td>37.450061</td>\n",
       "      <td>[keyword1, keyword2]</td>\n",
       "      <td>{'Location': 'Lab-A', 'nitmBatchSerialNumber':...</td>\n",
       "      <td>[]</td>\n",
       "      <td>d725064a-b04a-49c1-a47d-49487df244e7</td>\n",
       "      <td>PASSED</td>\n",
       "      <td></td>\n",
       "      <td>Lab-A</td>\n",
       "    </tr>\n",
       "    <tr>\n",
       "      <th>1</th>\n",
       "      <td>2021-02-02 15:44:45.241747</td>\n",
       "      <td>2021-02-03 02:41:32.340000</td>\n",
       "      <td>Battery Cycle Test.seq</td>\n",
       "      <td>6019736d26b41e3160c25e26</td>\n",
       "      <td>Precision_Tower_5810--SN-8GJJ942--MAC-34-17-EB...</td>\n",
       "      <td>JPREWITT5</td>\n",
       "      <td>administrator</td>\n",
       "      <td>HR-3UTG-AMZN</td>\n",
       "      <td>43231</td>\n",
       "      <td>14.203353</td>\n",
       "      <td>[]</td>\n",
       "      <td>{'nitmSource': 'niteststand', 'nitmTestStandSt...</td>\n",
       "      <td>[6019737c26b41e2820403887, 6019738226b41e28204...</td>\n",
       "      <td>d725064a-b04a-49c1-a47d-49487df244e7</td>\n",
       "      <td>PASSED</td>\n",
       "      <td>None</td>\n",
       "      <td>Austin</td>\n",
       "    </tr>\n",
       "  </tbody>\n",
       "</table>\n",
       "</div>"
      ],
      "text/plain": [
       "                  started_at                 updated_at  \\\n",
       "0 2021-01-27 22:02:29.991441 2021-01-27 22:02:30.613514   \n",
       "1 2021-02-02 15:44:45.241747 2021-02-03 02:41:32.340000   \n",
       "\n",
       "             program_name                        id  \\\n",
       "0            Program Name  6011e2f526b41e3160c25e20   \n",
       "1  Battery Cycle Test.seq  6019736d26b41e3160c25e26   \n",
       "\n",
       "                                           system_id  host_name  \\\n",
       "0                                                                 \n",
       "1  Precision_Tower_5810--SN-8GJJ942--MAC-34-17-EB...  JPREWITT5   \n",
       "\n",
       "        operator   part_number serial_number  total_time_in_seconds  \\\n",
       "0       John Doe     B3F2H-STL        123456              37.450061   \n",
       "1  administrator  HR-3UTG-AMZN         43231              14.203353   \n",
       "\n",
       "               keywords                                         properties  \\\n",
       "0  [keyword1, keyword2]  {'Location': 'Lab-A', 'nitmBatchSerialNumber':...   \n",
       "1                    []  {'nitmSource': 'niteststand', 'nitmTestStandSt...   \n",
       "\n",
       "                                            file_ids  \\\n",
       "0                                                 []   \n",
       "1  [6019737c26b41e2820403887, 6019738226b41e28204...   \n",
       "\n",
       "                              workspace status_type status_name Location  \n",
       "0  d725064a-b04a-49c1-a47d-49487df244e7      PASSED                Lab-A  \n",
       "1  d725064a-b04a-49c1-a47d-49487df244e7      PASSED        None   Austin  "
      ]
     },
     "execution_count": 8,
     "metadata": {},
     "output_type": "execute_result"
    }
   ],
   "source": [
    "df_results = pd.DataFrame.from_records(results_list)\n",
    "df_results = df_results.join(df_results['status'].apply(pd.Series))\n",
    "df_results['started_at'] = df_results['started_at'].apply(lambda t: t.tz_localize(None))\n",
    "df_results['updated_at'] = df_results['updated_at'].apply(lambda t: t.tz_localize(None))\n",
    "df_results.pop('status')\n",
    "df_results.pop('status_type_summary')"
   ]
  },
  {
   "cell_type": "markdown",
   "metadata": {},
   "source": []
  },
  {
   "cell_type": "code",
   "execution_count": 6,
   "metadata": {},
   "outputs": [],
   "source": [
    "df_dict = {\n",
    "    'columns': pd.io.json.build_table_schema(df_results, index=False)['fields'],\n",
    "    'values': df_results.values.tolist(),\n",
    "}\n",
    "\n",
    "results_graph = {\n",
    "    'type': 'data_frame',\n",
    "    'id': 'results_graph',\n",
    "    'data': df_dict\n",
    "}\n",
    "\n",
    "result = [results_graph]"
   ]
  },
  {
   "cell_type": "markdown",
   "metadata": {},
   "source": [
    "### Record results with Scrapbook"
   ]
  },
  {
   "cell_type": "code",
   "execution_count": 7,
   "metadata": {},
   "outputs": [
    {
     "data": {
      "application/scrapbook.scrap.json+json": {
       "data": [
        {
         "data": {
          "columns": [
           {
            "name": "started_at",
            "type": "datetime"
           },
           {
            "name": "updated_at",
            "type": "datetime"
           },
           {
            "name": "program_name",
            "type": "string"
           },
           {
            "name": "id",
            "type": "string"
           },
           {
            "name": "system_id",
            "type": "string"
           },
           {
            "name": "host_name",
            "type": "string"
           },
           {
            "name": "operator",
            "type": "string"
           },
           {
            "name": "part_number",
            "type": "string"
           },
           {
            "name": "serial_number",
            "type": "string"
           },
           {
            "name": "total_time_in_seconds",
            "type": "number"
           },
           {
            "name": "keywords",
            "type": "string"
           },
           {
            "name": "properties",
            "type": "string"
           },
           {
            "name": "file_ids",
            "type": "string"
           },
           {
            "name": "workspace",
            "type": "string"
           },
           {
            "name": "status_type",
            "type": "string"
           },
           {
            "name": "status_name",
            "type": "string"
           },
           {
            "name": "Location",
            "type": "string"
           }
          ],
          "values": [
           [
            "2021-01-27T22:02:29.991441",
            "2021-01-27T22:02:30.613514",
            "Program Name",
            "6011e2f526b41e3160c25e20",
            "",
            "",
            "John Doe",
            "B3F2H-STL",
            "123456",
            37.450060884519814,
            [
             "keyword1",
             "keyword2"
            ],
            {
             "Location": "Lab-A",
             "nitmBatchSerialNumber": "654321"
            },
            [],
            "d725064a-b04a-49c1-a47d-49487df244e7",
            "PASSED",
            "",
            "Lab-A"
           ],
           [
            "2021-02-02T15:44:45.241747",
            "2021-02-03T02:41:32.340000",
            "Battery Cycle Test.seq",
            "6019736d26b41e3160c25e26",
            "Precision_Tower_5810--SN-8GJJ942--MAC-34-17-EB-E2-43-C0",
            "JPREWITT5",
            "administrator",
            "HR-3UTG-AMZN",
            "43231",
            14.2033528,
            [],
            {
             "Capacity (mAh)": "2000",
             "Composition": "NiMH",
             "CustomField": "Hello World!",
             "Location": "Austin",
             "Voltage (V)": "1.5",
             "nitmProcessModel": "Sequential",
             "nitmSource": "niteststand",
             "nitmTestSocketCount": "1",
             "nitmTestStandStartTime": "2021-02-02T15:44:43.3790000Z",
             "test.1.asdf": "foo"
            },
            [
             "6019737c26b41e2820403887",
             "6019738226b41e2820403888",
             "6019738226b41e2820403889",
             "6019738326b41e282040388a"
            ],
            "d725064a-b04a-49c1-a47d-49487df244e7",
            "PASSED",
            null,
            "Austin"
           ]
          ]
         },
         "id": "results_graph",
         "type": "data_frame"
        }
       ],
       "encoder": "json",
       "name": "result",
       "version": 1
      }
     },
     "metadata": {
      "scrapbook": {
       "data": true,
       "display": false,
       "name": "result"
      }
     },
     "output_type": "display_data"
    }
   ],
   "source": [
    "sb.glue('result', result)"
   ]
  }
 ],
 "metadata": {
  "kernelspec": {
   "display_name": "Python 3",
   "language": "python",
   "name": "python3"
  },
  "language_info": {
   "codemirror_mode": {
    "name": "ipython",
    "version": 3
   },
   "file_extension": ".py",
   "mimetype": "text/x-python",
   "name": "python",
   "nbconvert_exporter": "python",
   "pygments_lexer": "ipython3",
   "version": "3.8.5"
  }
 },
 "nbformat": 4,
 "nbformat_minor": 4
}